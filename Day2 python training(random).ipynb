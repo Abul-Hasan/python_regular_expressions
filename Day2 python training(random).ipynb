{
 "cells": [
  {
   "cell_type": "code",
   "execution_count": 9,
   "metadata": {},
   "outputs": [
    {
     "ename": "SyntaxError",
     "evalue": "'return' outside function (<ipython-input-9-4298b115656b>, line 9)",
     "output_type": "error",
     "traceback": [
      "\u001b[1;36m  File \u001b[1;32m\"<ipython-input-9-4298b115656b>\"\u001b[1;36m, line \u001b[1;32m9\u001b[0m\n\u001b[1;33m    return\u001b[0m\n\u001b[1;37m           ^\u001b[0m\n\u001b[1;31mSyntaxError\u001b[0m\u001b[1;31m:\u001b[0m 'return' outside function\n"
     ]
    }
   ],
   "source": [
    "import random\n",
    "\n",
    "def gen_pass(num):\n",
    "    u=chr(random.randint(65,90))\n",
    "    l=chr((random.randint(97,122)))\n",
    "    s=[\"!\",\"@\",\"#\",\"$\",\"%\",\"&\"]\n",
    "    sp=random.choice(s)\n",
    "    num=random.randint(1000,9999)  \n",
    "    ra= u+l+sp+str(num)\n",
    "return \n",
    "    \n",
    "print(ra)\n"
   ]
  },
  {
   "cell_type": "code",
   "execution_count": 24,
   "metadata": {},
   "outputs": [
    {
     "name": "stdout",
     "output_type": "stream",
     "text": [
      "600\n"
     ]
    }
   ],
   "source": [
    "def add(num1,num2,num3):\n",
    "     return num1+num2+num3\n",
    "    \n",
    "\n",
    "print(add(100,200,300))"
   ]
  },
  {
   "cell_type": "code",
   "execution_count": 31,
   "metadata": {},
   "outputs": [
    {
     "name": "stdout",
     "output_type": "stream",
     "text": [
      "abcdefghi\n"
     ]
    }
   ],
   "source": [
    "def add(num1,num2,num3):\n",
    "     return num1+num2+num3\n",
    "    \n",
    "d={\"num1\":\"abc\",\"num2\":\"def\",\"num3\":\"ghi\"}\n",
    "print(add(**d))"
   ]
  },
  {
   "cell_type": "code",
   "execution_count": 1,
   "metadata": {},
   "outputs": [
    {
     "name": "stdout",
     "output_type": "stream",
     "text": [
      "['ABCDE1234A']\n"
     ]
    }
   ],
   "source": [
    "import re\n",
    "a=\"ABCDE1234A\"\n",
    "r=re.compile(\"^[A-Z]{5}[0-9]{4}[A-Z]{1}$\")\n",
    "l=re.findall(r,a)\n",
    "print(l)"
   ]
  },
  {
   "cell_type": "code",
   "execution_count": 2,
   "metadata": {},
   "outputs": [
    {
     "name": "stdout",
     "output_type": "stream",
     "text": [
      "['9686543212']\n"
     ]
    }
   ],
   "source": [
    "import re\n",
    "a=\"9686543212\"\n",
    "r=re.compile(\"^[7-9]{1}[0-9]{9}$\")\n",
    "l=re.findall(r,a)\n",
    "print(l)"
   ]
  },
  {
   "cell_type": "code",
   "execution_count": 11,
   "metadata": {},
   "outputs": [
    {
     "name": "stdout",
     "output_type": "stream",
     "text": [
      "Enter the phone number+447911123456\n",
      "not found\n"
     ]
    }
   ],
   "source": [
    "import re\n",
    "a=input(\"Enter the phone number\")\n",
    "r=re.compile(\"^(\\+91-)?([7-9]{1}[0-9]{9})$\")\n",
    "#l=re.findall(r,a)\n",
    "\n",
    "l=re.search(r,a)\n",
    "if l:\n",
    "    print(l.group(2))\n",
    "else:\n",
    "    print(\"not found\")"
   ]
  },
  {
   "cell_type": "code",
   "execution_count": 93,
   "metadata": {},
   "outputs": [
    {
     "name": "stdout",
     "output_type": "stream",
     "text": [
      "www.edyoda.com\n"
     ]
    }
   ],
   "source": [
    "\n",
    "import re\n",
    "a=\"http://www.edyoda.com\"\n",
    "r=re.compile(\"^http[s]?://(www.[a-z]+.com)$\")\n",
    "l=re.findall(r,a)\n",
    "l=re.search(r,a)\n",
    "if l:\n",
    "    print(l.group(1))\n",
    "else:\n",
    "    print(\"invlid URL\")\n"
   ]
  },
  {
   "cell_type": "code",
   "execution_count": 117,
   "metadata": {},
   "outputs": [
    {
     "name": "stdout",
     "output_type": "stream",
     "text": [
      "Enter a mail idaaa@gmail.in\n",
      "invlid mail\n"
     ]
    }
   ],
   "source": [
    "import re\n",
    "mail=input(\"Enter a mail id\")\n",
    "r=re.compile(\"^[a-zA-z0-9\\.-]+@[a-z]+\\.com$\")\n",
    "#l=re.findall(r,mail)             \n",
    "l=re.search(r,mail)\n",
    "if l:\n",
    "    print(l.group())\n",
    "else:\n",
    "    print(\"invlid mail\")"
   ]
  },
  {
   "cell_type": "code",
   "execution_count": 6,
   "metadata": {},
   "outputs": [
    {
     "name": "stdout",
     "output_type": "stream",
     "text": [
      "[('25', '09', '1998')]\n"
     ]
    }
   ],
   "source": [
    "import re\n",
    "mail=\"25-09-1998\"\n",
    "r=re.compile(\"^([0-9]{2})-([0-9]{2})-([0-9]{4})$\")\n",
    "l=re.findall(r,mail)             \n",
    "#l=re.search(r,mail)\n",
    "#if l:\n",
    " #   print(l.group())\n",
    "#else:\n",
    " #   print(\"invlid mail\")\n",
    "print(l)  "
   ]
  },
  {
   "cell_type": "code",
   "execution_count": 157,
   "metadata": {},
   "outputs": [
    {
     "name": "stdout",
     "output_type": "stream",
     "text": [
      "['PEP 538: Legacy', 'PEP 540: Forced', 'PEP 540: Forced', 'PEP 540: Forced', 'PEP 553: Built', 'PEP 539: New', 'PEP 562: Customization', 'PEP 564: New', 'PEP 565: Show']\n"
     ]
    }
   ],
   "source": [
    "import re\n",
    "fp=open(\"print.txt\",\"r\",encoding=\"utf-8\")\n",
    "\n",
    "f=fp.read()\n",
    "r=re.compile(\"PEP\\s[0-9]{3}:\\s[a-zA-Z]+\")\n",
    "l=re.findall(r,f)\n",
    "print(l)\n"
   ]
  },
  {
   "cell_type": "code",
   "execution_count": 5,
   "metadata": {},
   "outputs": [
    {
     "name": "stdout",
     "output_type": "stream",
     "text": [
      "Enter the ticket:INC12AA34\n",
      "Invalid Support Ticket number \n"
     ]
    }
   ],
   "source": [
    "import re\n",
    "a=input(\"Enter the ticket:\")\n",
    "#a=\"INC12A34\" \n",
    "#(\"^[A-Z]{5}[0-9]{4}[A-Z]{1}$\")\n",
    "r=re.compile(\"^(INC+[^a-z]{5})$\")\n",
    "l=re.search(r,a)\n",
    "if l:\n",
    "    print(\"valid ticket number\")\n",
    "else:\n",
    "    print(\"Invalid Support Ticket number \")\n"
   ]
  },
  {
   "cell_type": "code",
   "execution_count": null,
   "metadata": {},
   "outputs": [],
   "source": []
  }
 ],
 "metadata": {
  "kernelspec": {
   "display_name": "Python 3",
   "language": "python",
   "name": "python3"
  },
  "language_info": {
   "codemirror_mode": {
    "name": "ipython",
    "version": 3
   },
   "file_extension": ".py",
   "mimetype": "text/x-python",
   "name": "python",
   "nbconvert_exporter": "python",
   "pygments_lexer": "ipython3",
   "version": "3.7.3"
  }
 },
 "nbformat": 4,
 "nbformat_minor": 2
}
